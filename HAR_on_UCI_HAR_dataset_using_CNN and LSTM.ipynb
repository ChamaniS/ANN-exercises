{
  "nbformat": 4,
  "nbformat_minor": 0,
  "metadata": {
    "colab": {
      "name": "HAR_on_UCI_HAR_dataset_using_LSTM.ipynb",
      "provenance": [],
      "include_colab_link": true
    },
    "kernelspec": {
      "name": "python3",
      "display_name": "Python 3"
    },
    "accelerator": "GPU"
  },
  "cells": [
    {
      "cell_type": "markdown",
      "metadata": {
        "id": "view-in-github",
        "colab_type": "text"
      },
      "source": [
        "<a href=\"https://colab.research.google.com/github/ChamaniS/ANN-exercises/blob/master/HAR_on_UCI_HAR_dataset_using_CNN%20and%20LSTM.ipynb\" target=\"_parent\"><img src=\"https://colab.research.google.com/assets/colab-badge.svg\" alt=\"Open In Colab\"/></a>"
      ]
    },
    {
      "cell_type": "code",
      "metadata": {
        "id": "ozMklzZpYka1",
        "colab_type": "code",
        "outputId": "824863b9-3905-439f-d051-3a4a46e605d8",
        "colab": {
          "base_uri": "https://localhost:8080/",
          "height": 121
        }
      },
      "source": [
        "from google.colab import drive\n",
        "drive.mount('/content/gdrive')"
      ],
      "execution_count": 1,
      "outputs": [
        {
          "output_type": "stream",
          "text": [
            "Go to this URL in a browser: https://accounts.google.com/o/oauth2/auth?client_id=947318989803-6bn6qk8qdgf4n4g3pfee6491hc0brc4i.apps.googleusercontent.com&redirect_uri=urn%3aietf%3awg%3aoauth%3a2.0%3aoob&response_type=code&scope=email%20https%3a%2f%2fwww.googleapis.com%2fauth%2fdocs.test%20https%3a%2f%2fwww.googleapis.com%2fauth%2fdrive%20https%3a%2f%2fwww.googleapis.com%2fauth%2fdrive.photos.readonly%20https%3a%2f%2fwww.googleapis.com%2fauth%2fpeopleapi.readonly\n",
            "\n",
            "Enter your authorization code:\n",
            "··········\n",
            "Mounted at /content/gdrive\n"
          ],
          "name": "stdout"
        }
      ]
    },
    {
      "cell_type": "code",
      "metadata": {
        "id": "9QmzDwoSZElQ",
        "colab_type": "code",
        "colab": {
          "base_uri": "https://localhost:8080/",
          "height": 79
        },
        "outputId": "45b80912-f72c-4216-e14e-de52281bb5c7"
      },
      "source": [
        "import numpy as np\n",
        "import keras\n",
        "import _pickle as cPickle\n",
        "\n",
        "import tensorflow\n",
        "from numpy import mean\n",
        "from numpy import std\n",
        "from numpy import dstack\n",
        "from pandas import read_csv\n",
        "from keras.models import Sequential\n",
        "from keras.layers import Dense, TimeDistributed, Conv1D, MaxPooling1D\n",
        "from keras.layers import Flatten\n",
        "from keras.layers import Dropout\n",
        "from keras.layers import LSTM\n",
        "from keras.utils import to_categorical\n",
        "import matplotlib.pyplot as plt\n",
        "import time\n",
        "from sklearn import metrics\n",
        "import csv"
      ],
      "execution_count": 2,
      "outputs": [
        {
          "output_type": "stream",
          "text": [
            "Using TensorFlow backend.\n"
          ],
          "name": "stderr"
        },
        {
          "output_type": "display_data",
          "data": {
            "text/html": [
              "<p style=\"color: red;\">\n",
              "The default version of TensorFlow in Colab will soon switch to TensorFlow 2.x.<br>\n",
              "We recommend you <a href=\"https://www.tensorflow.org/guide/migrate\" target=\"_blank\">upgrade</a> now \n",
              "or ensure your notebook will continue to use TensorFlow 1.x via the <code>%tensorflow_version 1.x</code> magic:\n",
              "<a href=\"https://colab.research.google.com/notebooks/tensorflow_version.ipynb\" target=\"_blank\">more info</a>.</p>\n"
            ],
            "text/plain": [
              "<IPython.core.display.HTML object>"
            ]
          },
          "metadata": {
            "tags": []
          }
        }
      ]
    },
    {
      "cell_type": "code",
      "metadata": {
        "id": "AFW_LUejZHs-",
        "colab_type": "code",
        "colab": {}
      },
      "source": [
        "def load_file(filepath):\n",
        "    dataframe = read_csv(filepath, header=None, delim_whitespace=True)\n",
        "    return dataframe.values"
      ],
      "execution_count": 0,
      "outputs": []
    },
    {
      "cell_type": "code",
      "metadata": {
        "id": "jQ5gMpt5ZKh2",
        "colab_type": "code",
        "colab": {}
      },
      "source": [
        "# load a list of files and return as a 3d numpy array\n",
        "def load_group(filenames, prefix=''):\n",
        "    loaded = list()\n",
        "    for name in filenames:\n",
        "        data = load_file(prefix + name)\n",
        "        loaded.append(data)\n",
        "    # stack group so that features are the 3rd dimension\n",
        "    loaded = dstack(loaded)\n",
        "    return loaded\n"
      ],
      "execution_count": 0,
      "outputs": []
    },
    {
      "cell_type": "code",
      "metadata": {
        "id": "2A3Bo_ygZMl-",
        "colab_type": "code",
        "colab": {}
      },
      "source": [
        "# load a dataset group, such as train or test\n",
        "def load_dataset_group(group, prefix=''):\n",
        "    filepath = prefix + group + '/Inertial Signals/'\n",
        "    # load all 9 files as a single array\n",
        "    filenames = list()\n",
        "    # total acceleration\n",
        "    filenames += ['total_acc_x_' + group + '.txt', 'total_acc_y_' + group + '.txt', 'total_acc_z_' + group + '.txt']\n",
        "    # body acceleration\n",
        "    filenames += ['body_acc_x_' + group + '.txt', 'body_acc_y_' + group + '.txt', 'body_acc_z_' + group + '.txt']\n",
        "    # body gyroscope\n",
        "    filenames += ['body_gyro_x_' + group + '.txt', 'body_gyro_y_' + group + '.txt', 'body_gyro_z_' + group + '.txt']\n",
        "    # load input data\n",
        "    X = load_group(filenames, filepath)\n",
        "    # load class output\n",
        "    y = load_file(prefix + group + '/y_' + group + '.txt')\n",
        "    return X, y"
      ],
      "execution_count": 0,
      "outputs": []
    },
    {
      "cell_type": "code",
      "metadata": {
        "id": "492yTD5cZQn2",
        "colab_type": "code",
        "colab": {}
      },
      "source": [
        "# load the dataset, returns train and test X and y elements\n",
        "def load_dataset(prefix=''):\n",
        "    # load all train\n",
        "    trainX, trainy = load_dataset_group('train', prefix + '/content/gdrive/My Drive/Colab Notebooks/UCI HAR Dataset/UCI HAR Dataset/')\n",
        "    print(trainX.shape, trainy.shape)\n",
        "    # load all test\n",
        "    testX, testy = load_dataset_group('test', prefix + '/content/gdrive/My Drive/Colab Notebooks/UCI HAR Dataset/UCI HAR Dataset/')\n",
        "    print(testX.shape, testy.shape)\n",
        "    # zero-offset class values\n",
        "    trainy = trainy - 1\n",
        "    testy = testy - 1\n",
        "    # one hot encode y\n",
        "    trainy = to_categorical(trainy)\n",
        "    testy = to_categorical(testy)\n",
        "\n",
        "    print(trainX.shape, trainy.shape, testX.shape, testy.shape)\n",
        "    return trainX, trainy, testX, testy\n"
      ],
      "execution_count": 0,
      "outputs": []
    },
    {
      "cell_type": "code",
      "metadata": {
        "id": "5xUvR5-ZZWjm",
        "colab_type": "code",
        "colab": {}
      },
      "source": [
        "# fit and evaluate a model\n",
        "def evaluate_model(trainX, trainy, testX, testy):\n",
        " \n",
        "    # define model\n",
        "    verbose, epochs, batch_size = 1, 25,64\n",
        "    n_timesteps, n_features, n_outputs = trainX.shape[1], trainX.shape[2], trainy.shape[1]\n",
        "    # reshape data into time steps of sub-sequences\n",
        "    n_steps, n_length = 4, 32\n",
        "    trainX = trainX.reshape((trainX.shape[0], n_steps, n_length, n_features))\n",
        "    testX = testX.reshape((testX.shape[0], n_steps, n_length, n_features))\n",
        "    # define model\n",
        "    model = Sequential()\n",
        "    model.add(TimeDistributed(Conv1D(filters=64, kernel_size=3, activation='relu'), input_shape=(None, n_length, n_features)))\n",
        "    model.add(TimeDistributed(Conv1D(filters=64, kernel_size=3, activation='relu')))\n",
        "    model.add(TimeDistributed(Dropout(0.5)))\n",
        "    model.add(TimeDistributed(MaxPooling1D(pool_size=2)))\n",
        "    model.add(TimeDistributed(Flatten()))\n",
        "    model.add(LSTM(100))\n",
        "    model.add(Dropout(0.5))\n",
        "    model.add(Dense(100, activation='relu'))\n",
        "    model.add(Dense(n_outputs, activation='softmax'))\n",
        "    model.compile(loss='categorical_crossentropy', optimizer='adam', metrics=['accuracy'])\n",
        "    model.summary()\n",
        "     # fit network\n",
        "   # ts1 = time.time()\n",
        "   # print (\"time1\",ts1)\n",
        "    history=model.fit(trainX, trainy, epochs=epochs, batch_size=batch_size, verbose=verbose, validation_data=(testX, testy))\n",
        "    \n",
        "   # ts2 = time.time()\n",
        "   # print (\"time2\",ts2)\n",
        "   # print(\"time2-time1\",(ts2-ts1))\n",
        "       # test model\n",
        "    #ts3 = time.time()\n",
        "    #print (\"time3\",ts3)\n",
        "    test_model(model, testX, verbose, batch_size, n_outputs)\n",
        "    _, accuracy = model.evaluate(testX, testy, batch_size=batch_size, verbose=verbose)\n",
        "    #ts4 = time.time()\n",
        "    #print (\"time4\",ts4)\n",
        "    #print(\"time4-time3\",(ts4-ts3))\n",
        "    return accuracy,history\n"
      ],
      "execution_count": 0,
      "outputs": []
    },
    {
      "cell_type": "code",
      "metadata": {
        "id": "wt-jpJ3nc88I",
        "colab_type": "code",
        "colab": {}
      },
      "source": [
        "# fit and evaluate a model\n",
        "def test_model(model, testX, verbose, batch_size, n_outputs):\n",
        " \n",
        "    prediction_list = model.predict(testX, batch_size=batch_size, steps=None, verbose=verbose)\n",
        "    predictions_transformed = np.eye(n_outputs, dtype=int)[np.argmax(prediction_list, axis=1)]\n",
        "\n",
        "    np.savetxt('predictions.txt', prediction_list)\n",
        "    np.savetxt('predictions_trans.txt', (np.argmax(predictions_transformed, axis=1)))"
      ],
      "execution_count": 0,
      "outputs": []
    },
    {
      "cell_type": "code",
      "metadata": {
        "id": "AOYWdSzOe2bi",
        "colab_type": "code",
        "colab": {}
      },
      "source": [
        "def plot_accuracy(history):\n",
        "      acc = history.history['acc']\n",
        "      val_acc = history.history['val_acc']\n",
        "      loss = history.history['loss']\n",
        "      val_loss = history.history['val_loss']\n",
        "      epochs = range(1, len(acc) + 1)\n",
        "      plt.plot(epochs, acc, 'bo', label='Training acc')\n",
        "      plt.plot(epochs, val_acc, 'orange', label='Validation acc')\n",
        "      plt.title('Training and validation accuracy')\n",
        "      plt.legend()\n",
        "      plt.figure()"
      ],
      "execution_count": 0,
      "outputs": []
    },
    {
      "cell_type": "code",
      "metadata": {
        "id": "Ezl0rM0ho9rs",
        "colab_type": "code",
        "colab": {}
      },
      "source": [
        "def plot_loss(history):\n",
        "      acc = history.history['acc']\n",
        "      val_acc = history.history['val_acc']\n",
        "      loss = history.history['loss']\n",
        "      val_loss = history.history['val_loss']\n",
        "      epochs = range(1, len(acc) + 1)\n",
        "      plt.plot(epochs, loss, 'bo', label='Training loss')\n",
        "      plt.plot(epochs, val_loss, 'orange', label='Validation loss')\n",
        "      plt.title('Training and validation loss')\n",
        "      plt.legend()\n",
        "      plt.figure()"
      ],
      "execution_count": 0,
      "outputs": []
    },
    {
      "cell_type": "code",
      "metadata": {
        "id": "_KsPt0H8c-VX",
        "colab_type": "code",
        "colab": {}
      },
      "source": [
        "# summarize scores\n",
        "def summarize_results(scores):\n",
        "    print(scores)\n",
        "    m, s = mean(scores), std(scores)\n",
        "    print('Accuracy: %.3f%% (+/-%.3f)' % (m, s))"
      ],
      "execution_count": 0,
      "outputs": []
    },
    {
      "cell_type": "code",
      "metadata": {
        "id": "PGo4OR_8dBWI",
        "colab_type": "code",
        "outputId": "64d646f8-3ef8-4f63-bd62-f8b47f6f6cf2",
        "colab": {
          "base_uri": "https://localhost:8080/",
          "height": 1000
        }
      },
      "source": [
        "def plot_predictions():\n",
        "    x = list(range(1, 101))\n",
        "    actual = read_csv(\"/content/gdrive/My Drive/Colab Notebooks/UCI HAR Dataset/UCI HAR Dataset/test/y_test.txt\", nrows=100, header=None, delim_whitespace=True)\n",
        "    predicted = read_csv(\"predictions_trans.txt\", nrows=100, header=None, delim_whitespace=True)\n",
        "    predicted = ([x+1 for x in np.array(predicted)])\n",
        "    plt.plot(x, actual)\n",
        "    plt.plot(x, predicted, color='r')\n",
        "    plt.show()\n",
        "\n",
        "with open('/content/gdrive/My Drive/Colab Notebooks/UCI HAR Dataset/UCI HAR Dataset/test/y_test.txt', newline='') as csvfile:\n",
        "    actualok = list(csv.reader(csvfile))\n",
        "\n",
        "\n",
        "with open('predictions_trans.txt', newline='') as csvfile:\n",
        "    predictedok = list(csv.reader(csvfile))\n",
        "\n",
        "\n",
        "    print(\"Confusion Matrix:\")\n",
        "    confusion_matrix = metrics.confusion_matrix(actualok, predictedok)\n",
        "    print(confusion_matrix)\n",
        "    normalised_confusion_matrix = np.array(confusion_matrix, dtype=np.float32)/np.sum(confusion_matrix)*100\n",
        "    # Plot Results: \n",
        "    width = 8\n",
        "    height = 8\n",
        "  \n",
        "    plt.figure(figsize=(width, height))\n",
        "    plt.imshow(\n",
        "        normalised_confusion_matrix, \n",
        "        interpolation='nearest', \n",
        "        cmap=plt.cm.rainbow\n",
        "    )\n",
        "    plt.title(\"Confusion matrix \\n(normalised to % of total test data)\")\n",
        "\n",
        "\n",
        "    print(normalised_confusion_matrix)\n",
        "\n",
        "    LABELS = [\n",
        "        \"WALKING\", \n",
        "        \"WALKING_UPSTAIRS\", \n",
        "        \"WALKING_DOWNSTAIRS\", \n",
        "        \"SITTING\", \n",
        "        \"STANDING\", \n",
        "        \"LAYING\"\n",
        "    ]\n",
        "    plt.colorbar()\n",
        "    tick_marks = np.arange(6)\n",
        "    plt.xticks(tick_marks, LABELS, rotation=90)\n",
        "    plt.yticks(tick_marks, LABELS)\n",
        "    plt.tight_layout()\n",
        "    plt.ylabel('True label')\n",
        "    plt.xlabel('Predicted label')\n",
        "    plt.show()"
      ],
      "execution_count": 15,
      "outputs": [
        {
          "output_type": "stream",
          "text": [
            "Confusion Matrix:\n",
            "[[  0   0   0   0   0   0   0   0   0   0   0   0]\n",
            " [491   0   3   0   1   0   0   0   1   0   0   0]\n",
            " [  0   0   0   0   0   0   0   0   0   0   0   0]\n",
            " [  3   0 444   0  23   0   0   0   1   0   0   0]\n",
            " [  0   0   0   0   0   0   0   0   0   0   0   0]\n",
            " [  4   0   2   0 414   0   0   0   0   0   0   0]\n",
            " [  0   0   0   0   0   0   0   0   0   0   0   0]\n",
            " [  0   0   5   0   0   0 417   0  65   0   4   0]\n",
            " [  0   0   0   0   0   0   0   0   0   0   0   0]\n",
            " [  0   0   0   0   0   0  98   0 434   0   0   0]\n",
            " [  0   0   0   0   0   0   0   0   0   0   0   0]\n",
            " [  0   0   8   0   0   0   0   0   0   0 529   0]]\n",
            "[[ 0.          0.          0.          0.          0.          0.\n",
            "   0.          0.          0.          0.          0.          0.        ]\n",
            " [16.66101     0.          0.10179844  0.          0.03393281  0.\n",
            "   0.          0.          0.03393281  0.          0.          0.        ]\n",
            " [ 0.          0.          0.          0.          0.          0.\n",
            "   0.          0.          0.          0.          0.          0.        ]\n",
            " [ 0.10179844  0.         15.066169    0.          0.7804547   0.\n",
            "   0.          0.          0.03393281  0.          0.          0.        ]\n",
            " [ 0.          0.          0.          0.          0.          0.\n",
            "   0.          0.          0.          0.          0.          0.        ]\n",
            " [ 0.13573125  0.          0.06786563  0.         14.048184    0.\n",
            "   0.          0.          0.          0.          0.          0.        ]\n",
            " [ 0.          0.          0.          0.          0.          0.\n",
            "   0.          0.          0.          0.          0.          0.        ]\n",
            " [ 0.          0.          0.16966406  0.          0.          0.\n",
            "  14.149983    0.          2.205633    0.          0.13573125  0.        ]\n",
            " [ 0.          0.          0.          0.          0.          0.\n",
            "   0.          0.          0.          0.          0.          0.        ]\n",
            " [ 0.          0.          0.          0.          0.          0.\n",
            "   3.3254158   0.         14.726841    0.          0.          0.        ]\n",
            " [ 0.          0.          0.          0.          0.          0.\n",
            "   0.          0.          0.          0.          0.          0.        ]\n",
            " [ 0.          0.          0.2714625   0.          0.          0.\n",
            "   0.          0.          0.          0.         17.950459    0.        ]]\n"
          ],
          "name": "stdout"
        },
        {
          "output_type": "display_data",
          "data": {
            "image/png": "[encoded data removed]",
            "text/plain": [
              "<Figure size 576x576 with 2 Axes>"
            ]
          },
          "metadata": {
            "tags": []
          }
        }
      ]
    },
    {
      "cell_type": "code",
      "metadata": {
        "id": "MWvXMxCwdDQ_",
        "colab_type": "code",
        "colab": {}
      },
      "source": [
        "def run_experiment(repeats=1):\n",
        "    # load data\n",
        "    trainX, trainy, testX, testy = load_dataset()\n",
        "    #repeat experiment\n",
        "    scores=list()\n",
        "    for r in range(repeats):\n",
        "        score,history = evaluate_model(trainX, trainy, testX, testy)\n",
        "        score=score*100.0\n",
        "        print(\"Accuracy : \", score)\n",
        "        plot_predictions()\n",
        "        plot_accuracy(history)\n",
        "        plot_loss(history)"
      ],
      "execution_count": 0,
      "outputs": []
    },
    {
      "cell_type": "code",
      "metadata": {
        "id": "y-94tHEfdFaP",
        "colab_type": "code",
        "outputId": "16a1aa7d-ed1f-4c59-f1ab-711bc1d08818",
        "colab": {
          "base_uri": "https://localhost:8080/",
          "height": 1000
        }
      },
      "source": [
        "# run the experiment\n",
        "run_experiment()"
      ],
      "execution_count": 14,
      "outputs": [
        {
          "output_type": "stream",
          "text": [
            "(7352, 128, 9) (7352, 1)\n",
            "(2947, 128, 9) (2947, 1)\n",
            "(7352, 128, 9) (7352, 6) (2947, 128, 9) (2947, 6)\n",
            "WARNING:tensorflow:From /usr/local/lib/python3.6/dist-packages/keras/backend/tensorflow_backend.py:66: The name tf.get_default_graph is deprecated. Please use tf.compat.v1.get_default_graph instead.\n",
            "\n",
            "WARNING:tensorflow:From /usr/local/lib/python3.6/dist-packages/keras/backend/tensorflow_backend.py:541: The name tf.placeholder is deprecated. Please use tf.compat.v1.placeholder instead.\n",
            "\n",
            "WARNING:tensorflow:From /usr/local/lib/python3.6/dist-packages/keras/backend/tensorflow_backend.py:4432: The name tf.random_uniform is deprecated. Please use tf.random.uniform instead.\n",
            "\n",
            "WARNING:tensorflow:From /usr/local/lib/python3.6/dist-packages/keras/backend/tensorflow_backend.py:148: The name tf.placeholder_with_default is deprecated. Please use tf.compat.v1.placeholder_with_default instead.\n",
            "\n",
            "WARNING:tensorflow:From /usr/local/lib/python3.6/dist-packages/keras/backend/tensorflow_backend.py:3733: calling dropout (from tensorflow.python.ops.nn_ops) with keep_prob is deprecated and will be removed in a future version.\n",
            "Instructions for updating:\n",
            "Please use `rate` instead of `keep_prob`. Rate should be set to `rate = 1 - keep_prob`.\n",
            "WARNING:tensorflow:From /usr/local/lib/python3.6/dist-packages/keras/backend/tensorflow_backend.py:4267: The name tf.nn.max_pool is deprecated. Please use tf.nn.max_pool2d instead.\n",
            "\n",
            "WARNING:tensorflow:From /usr/local/lib/python3.6/dist-packages/keras/optimizers.py:793: The name tf.train.Optimizer is deprecated. Please use tf.compat.v1.train.Optimizer instead.\n",
            "\n",
            "WARNING:tensorflow:From /usr/local/lib/python3.6/dist-packages/keras/backend/tensorflow_backend.py:3576: The name tf.log is deprecated. Please use tf.math.log instead.\n",
            "\n",
            "Model: \"sequential_1\"\n",
            "_________________________________________________________________\n",
            "Layer (type)                 Output Shape              Param #   \n",
            "=================================================================\n",
            "time_distributed_1 (TimeDist (None, None, 30, 64)      1792      \n",
            "_________________________________________________________________\n",
            "time_distributed_2 (TimeDist (None, None, 28, 64)      12352     \n",
            "_________________________________________________________________\n",
            "time_distributed_3 (TimeDist (None, None, 28, 64)      0         \n",
            "_________________________________________________________________\n",
            "time_distributed_4 (TimeDist (None, None, 14, 64)      0         \n",
            "_________________________________________________________________\n",
            "time_distributed_5 (TimeDist (None, None, 896)         0         \n",
            "_________________________________________________________________\n",
            "lstm_1 (LSTM)                (None, 100)               398800    \n",
            "_________________________________________________________________\n",
            "dropout_2 (Dropout)          (None, 100)               0         \n",
            "_________________________________________________________________\n",
            "dense_1 (Dense)              (None, 100)               10100     \n",
            "_________________________________________________________________\n",
            "dense_2 (Dense)              (None, 6)                 606       \n",
            "=================================================================\n",
            "Total params: 423,650\n",
            "Trainable params: 423,650\n",
            "Non-trainable params: 0\n",
            "_________________________________________________________________\n",
            "WARNING:tensorflow:From /usr/local/lib/python3.6/dist-packages/tensorflow_core/python/ops/math_grad.py:1424: where (from tensorflow.python.ops.array_ops) is deprecated and will be removed in a future version.\n",
            "Instructions for updating:\n",
            "Use tf.where in 2.0, which has the same broadcast rule as np.where\n",
            "WARNING:tensorflow:From /usr/local/lib/python3.6/dist-packages/keras/backend/tensorflow_backend.py:1033: The name tf.assign_add is deprecated. Please use tf.compat.v1.assign_add instead.\n",
            "\n",
            "WARNING:tensorflow:From /usr/local/lib/python3.6/dist-packages/keras/backend/tensorflow_backend.py:1020: The name tf.assign is deprecated. Please use tf.compat.v1.assign instead.\n",
            "\n",
            "WARNING:tensorflow:From /usr/local/lib/python3.6/dist-packages/keras/backend/tensorflow_backend.py:3005: The name tf.Session is deprecated. Please use tf.compat.v1.Session instead.\n",
            "\n",
            "Train on 7352 samples, validate on 2947 samples\n",
            "Epoch 1/25\n",
            "WARNING:tensorflow:From /usr/local/lib/python3.6/dist-packages/keras/backend/tensorflow_backend.py:190: The name tf.get_default_session is deprecated. Please use tf.compat.v1.get_default_session instead.\n",
            "\n",
            "WARNING:tensorflow:From /usr/local/lib/python3.6/dist-packages/keras/backend/tensorflow_backend.py:197: The name tf.ConfigProto is deprecated. Please use tf.compat.v1.ConfigProto instead.\n",
            "\n",
            "WARNING:tensorflow:From /usr/local/lib/python3.6/dist-packages/keras/backend/tensorflow_backend.py:207: The name tf.global_variables is deprecated. Please use tf.compat.v1.global_variables instead.\n",
            "\n",
            "WARNING:tensorflow:From /usr/local/lib/python3.6/dist-packages/keras/backend/tensorflow_backend.py:216: The name tf.is_variable_initialized is deprecated. Please use tf.compat.v1.is_variable_initialized instead.\n",
            "\n",
            "WARNING:tensorflow:From /usr/local/lib/python3.6/dist-packages/keras/backend/tensorflow_backend.py:223: The name tf.variables_initializer is deprecated. Please use tf.compat.v1.variables_initializer instead.\n",
            "\n",
            "7352/7352 [==============================] - 16s 2ms/step - loss: 0.6460 - acc: 0.7307 - val_loss: 0.6134 - val_acc: 0.7788\n",
            "Epoch 2/25\n",
            "7352/7352 [==============================] - 1s 187us/step - loss: 0.2606 - acc: 0.9066 - val_loss: 0.3952 - val_acc: 0.8487\n",
            "Epoch 3/25\n",
            "7352/7352 [==============================] - 1s 190us/step - loss: 0.1554 - acc: 0.9382 - val_loss: 0.3816 - val_acc: 0.8629\n",
            "Epoch 4/25\n",
            "7352/7352 [==============================] - 1s 185us/step - loss: 0.1451 - acc: 0.9426 - val_loss: 0.3430 - val_acc: 0.8935\n",
            "Epoch 5/25\n",
            "7352/7352 [==============================] - 1s 190us/step - loss: 0.1229 - acc: 0.9476 - val_loss: 0.3375 - val_acc: 0.8968\n",
            "Epoch 6/25\n",
            "7352/7352 [==============================] - 1s 183us/step - loss: 0.1117 - acc: 0.9551 - val_loss: 0.4547 - val_acc: 0.8680\n",
            "Epoch 7/25\n",
            "7352/7352 [==============================] - 1s 186us/step - loss: 0.1146 - acc: 0.9498 - val_loss: 0.2960 - val_acc: 0.8992\n",
            "Epoch 8/25\n",
            "7352/7352 [==============================] - 1s 196us/step - loss: 0.1135 - acc: 0.9555 - val_loss: 0.3120 - val_acc: 0.8992\n",
            "Epoch 9/25\n",
            "7352/7352 [==============================] - 1s 180us/step - loss: 0.1035 - acc: 0.9559 - val_loss: 0.3996 - val_acc: 0.8955\n",
            "Epoch 10/25\n",
            "7352/7352 [==============================] - 1s 187us/step - loss: 0.1060 - acc: 0.9550 - val_loss: 0.3090 - val_acc: 0.8989\n",
            "Epoch 11/25\n",
            "7352/7352 [==============================] - 1s 192us/step - loss: 0.0993 - acc: 0.9558 - val_loss: 0.3224 - val_acc: 0.9084\n",
            "Epoch 12/25\n",
            "7352/7352 [==============================] - 1s 184us/step - loss: 0.1106 - acc: 0.9538 - val_loss: 0.3623 - val_acc: 0.9030\n",
            "Epoch 13/25\n",
            "7352/7352 [==============================] - 1s 186us/step - loss: 0.1001 - acc: 0.9562 - val_loss: 0.3480 - val_acc: 0.9036\n",
            "Epoch 14/25\n",
            "7352/7352 [==============================] - 1s 182us/step - loss: 0.1035 - acc: 0.9523 - val_loss: 0.3923 - val_acc: 0.8982\n",
            "Epoch 15/25\n",
            "7352/7352 [==============================] - 1s 188us/step - loss: 0.0972 - acc: 0.9565 - val_loss: 0.3518 - val_acc: 0.9101\n",
            "Epoch 16/25\n",
            "7352/7352 [==============================] - 1s 184us/step - loss: 0.0965 - acc: 0.9565 - val_loss: 0.4537 - val_acc: 0.8955\n",
            "Epoch 17/25\n",
            "7352/7352 [==============================] - 1s 182us/step - loss: 0.0964 - acc: 0.9577 - val_loss: 0.3700 - val_acc: 0.9165\n",
            "Epoch 18/25\n",
            "7352/7352 [==============================] - 1s 184us/step - loss: 0.0945 - acc: 0.9584 - val_loss: 0.4042 - val_acc: 0.9046\n",
            "Epoch 19/25\n",
            "7352/7352 [==============================] - 1s 185us/step - loss: 0.0893 - acc: 0.9588 - val_loss: 0.4537 - val_acc: 0.9094\n",
            "Epoch 20/25\n",
            "7352/7352 [==============================] - 1s 191us/step - loss: 0.0874 - acc: 0.9589 - val_loss: 0.3627 - val_acc: 0.9087\n",
            "Epoch 21/25\n",
            "7352/7352 [==============================] - 1s 186us/step - loss: 0.0897 - acc: 0.9576 - val_loss: 0.3075 - val_acc: 0.9203\n",
            "Epoch 22/25\n",
            "7352/7352 [==============================] - 1s 186us/step - loss: 0.0835 - acc: 0.9618 - val_loss: 0.3175 - val_acc: 0.9243\n",
            "Epoch 23/25\n",
            "7352/7352 [==============================] - 1s 188us/step - loss: 0.0897 - acc: 0.9593 - val_loss: 0.3504 - val_acc: 0.9179\n",
            "Epoch 24/25\n",
            "7352/7352 [==============================] - 1s 185us/step - loss: 0.0835 - acc: 0.9608 - val_loss: 0.3429 - val_acc: 0.9175\n",
            "Epoch 25/25\n",
            "7352/7352 [==============================] - 1s 182us/step - loss: 0.0747 - acc: 0.9664 - val_loss: 0.2736 - val_acc: 0.9260\n",
            "2947/2947 [==============================] - 0s 83us/step\n",
            "2947/2947 [==============================] - 0s 49us/step\n",
            "Accuracy :  92.60264675941634\n"
          ],
          "name": "stdout"
        },
        {
          "output_type": "display_data",
          "data": {
            "image/png": "[encoded data removed]",
            "text/plain": [
              "<Figure size 432x288 with 1 Axes>"
            ]
          },
          "metadata": {
            "tags": []
          }
        },
        {
          "output_type": "display_data",
          "data": {
            "image/png": "[encoded data removed]",
            "text/plain": [
              "<Figure size 432x288 with 1 Axes>"
            ]
          },
          "metadata": {
            "tags": []
          }
        },
        {
          "output_type": "display_data",
          "data": {
            "image/png": "[encoded data removed]",
            "text/plain": [
              "<Figure size 432x288 with 1 Axes>"
            ]
          },
          "metadata": {
            "tags": []
          }
        },
        {
          "output_type": "display_data",
          "data": {
            "text/plain": [
              "<Figure size 432x288 with 0 Axes>"
            ]
          },
          "metadata": {
            "tags": []
          }
        }
      ]
    },
    {
      "cell_type": "code",
      "metadata": {
        "id": "5SWxGD2c8M5F",
        "colab_type": "code",
        "outputId": "46b7ef5d-7e39-4190-cf30-167e33b7928c",
        "colab": {
          "base_uri": "https://localhost:8080/",
          "height": 402
        }
      },
      "source": [
        "df = pd.read_csv('predictions_trans.txt', sep=\" \", header=None, names=[\"Prediction\"])\n",
        "temp_dict={0:'Walking',\n",
        "           1:'Walking-upstairs',\n",
        "           2:'Walking-downstairs',\n",
        "           3:'Sitting',\n",
        "           4:'Standing',\n",
        "           5:'Laying'}\n",
        "\n",
        "df['Prediction']=df.Prediction.map(temp_dict)\n",
        "df"
      ],
      "execution_count": 44,
      "outputs": [
        {
          "output_type": "execute_result",
          "data": {
            "text/html": [
              "<div>\n",
              "<style scoped>\n",
              "    .dataframe tbody tr th:only-of-type {\n",
              "        vertical-align: middle;\n",
              "    }\n",
              "\n",
              "    .dataframe tbody tr th {\n",
              "        vertical-align: top;\n",
              "    }\n",
              "\n",
              "    .dataframe thead th {\n",
              "        text-align: right;\n",
              "    }\n",
              "</style>\n",
              "<table border=\"1\" class=\"dataframe\">\n",
              "  <thead>\n",
              "    <tr style=\"text-align: right;\">\n",
              "      <th></th>\n",
              "      <th>Prediction</th>\n",
              "    </tr>\n",
              "  </thead>\n",
              "  <tbody>\n",
              "    <tr>\n",
              "      <th>0</th>\n",
              "      <td>Standing</td>\n",
              "    </tr>\n",
              "    <tr>\n",
              "      <th>1</th>\n",
              "      <td>Standing</td>\n",
              "    </tr>\n",
              "    <tr>\n",
              "      <th>2</th>\n",
              "      <td>Standing</td>\n",
              "    </tr>\n",
              "    <tr>\n",
              "      <th>3</th>\n",
              "      <td>Standing</td>\n",
              "    </tr>\n",
              "    <tr>\n",
              "      <th>4</th>\n",
              "      <td>Standing</td>\n",
              "    </tr>\n",
              "    <tr>\n",
              "      <th>...</th>\n",
              "      <td>...</td>\n",
              "    </tr>\n",
              "    <tr>\n",
              "      <th>2942</th>\n",
              "      <td>Walking-upstairs</td>\n",
              "    </tr>\n",
              "    <tr>\n",
              "      <th>2943</th>\n",
              "      <td>Walking-upstairs</td>\n",
              "    </tr>\n",
              "    <tr>\n",
              "      <th>2944</th>\n",
              "      <td>Walking-upstairs</td>\n",
              "    </tr>\n",
              "    <tr>\n",
              "      <th>2945</th>\n",
              "      <td>Walking-upstairs</td>\n",
              "    </tr>\n",
              "    <tr>\n",
              "      <th>2946</th>\n",
              "      <td>Walking-upstairs</td>\n",
              "    </tr>\n",
              "  </tbody>\n",
              "</table>\n",
              "<p>2947 rows × 1 columns</p>\n",
              "</div>"
            ],
            "text/plain": [
              "            Prediction\n",
              "0             Standing\n",
              "1             Standing\n",
              "2             Standing\n",
              "3             Standing\n",
              "4             Standing\n",
              "...                ...\n",
              "2942  Walking-upstairs\n",
              "2943  Walking-upstairs\n",
              "2944  Walking-upstairs\n",
              "2945  Walking-upstairs\n",
              "2946  Walking-upstairs\n",
              "\n",
              "[2947 rows x 1 columns]"
            ]
          },
          "metadata": {
            "tags": []
          },
          "execution_count": 44
        }
      ]
    },
    {
      "cell_type": "code",
      "metadata": {
        "id": "fUkNpy-aQbUE",
        "colab_type": "code",
        "colab": {}
      },
      "source": [
        "df.to_csv(r'activity_predictions.txt', header=None, index=None, sep='\\t', mode='a')"
      ],
      "execution_count": 0,
      "outputs": []
    }
  ]
}