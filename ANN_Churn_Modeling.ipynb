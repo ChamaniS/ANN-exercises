{
  "nbformat": 4,
  "nbformat_minor": 0,
  "metadata": {
    "colab": {
      "name": "ANN_Churn Modeling.ipynb",
      "provenance": [],
      "include_colab_link": true
    },
    "kernelspec": {
      "name": "python3",
      "display_name": "Python 3"
    },
    "accelerator": "GPU"
  },
  "cells": [
    {
      "cell_type": "markdown",
      "metadata": {
        "id": "view-in-github",
        "colab_type": "text"
      },
      "source": [
        "<a href=\"https://colab.research.google.com/github/ChamaniS/Chamani-Repository-1/blob/master/ANN_Churn_Modeling.ipynb\" target=\"_parent\"><img src=\"https://colab.research.google.com/assets/colab-badge.svg\" alt=\"Open In Colab\"/></a>"
      ]
    },
    {
      "cell_type": "code",
      "metadata": {
        "id": "uA3ydndtEtg4",
        "colab_type": "code",
        "colab": {
          "base_uri": "https://localhost:8080/",
          "height": 79
        },
        "outputId": "95c800a3-3a13-48c1-f6dc-44b51da7eadb"
      },
      "source": [
        "import tensorflow as tf\n",
        "tf.test.gpu_device_name()"
      ],
      "execution_count": 1,
      "outputs": [
        {
          "output_type": "display_data",
          "data": {
            "text/html": [
              "<p style=\"color: red;\">\n",
              "The default version of TensorFlow in Colab will soon switch to TensorFlow 2.x.<br>\n",
              "We recommend you <a href=\"https://www.tensorflow.org/guide/migrate\" target=\"_blank\">upgrade</a> now \n",
              "or ensure your notebook will continue to use TensorFlow 1.x via the <code>%tensorflow_version 1.x</code> magic:\n",
              "<a href=\"https://colab.research.google.com/notebooks/tensorflow_version.ipynb\" target=\"_blank\">more info</a>.</p>\n"
            ],
            "text/plain": [
              "<IPython.core.display.HTML object>"
            ]
          },
          "metadata": {
            "tags": []
          }
        },
        {
          "output_type": "execute_result",
          "data": {
            "text/plain": [
              "'/device:GPU:0'"
            ]
          },
          "metadata": {
            "tags": []
          },
          "execution_count": 1
        }
      ]
    },
    {
      "cell_type": "code",
      "metadata": {
        "id": "tPKUtv9oFnga",
        "colab_type": "code",
        "colab": {
          "base_uri": "https://localhost:8080/",
          "height": 470
        },
        "outputId": "0300823e-0c4d-4329-b968-dd48611910c8"
      },
      "source": [
        "from tensorflow.python.client import device_lib\n",
        "device_lib.list_local_devices()"
      ],
      "execution_count": 2,
      "outputs": [
        {
          "output_type": "execute_result",
          "data": {
            "text/plain": [
              "[name: \"/device:CPU:0\"\n",
              " device_type: \"CPU\"\n",
              " memory_limit: 268435456\n",
              " locality {\n",
              " }\n",
              " incarnation: 10775735863606882009, name: \"/device:XLA_CPU:0\"\n",
              " device_type: \"XLA_CPU\"\n",
              " memory_limit: 17179869184\n",
              " locality {\n",
              " }\n",
              " incarnation: 5806888016436193687\n",
              " physical_device_desc: \"device: XLA_CPU device\", name: \"/device:XLA_GPU:0\"\n",
              " device_type: \"XLA_GPU\"\n",
              " memory_limit: 17179869184\n",
              " locality {\n",
              " }\n",
              " incarnation: 7889119626894430820\n",
              " physical_device_desc: \"device: XLA_GPU device\", name: \"/device:GPU:0\"\n",
              " device_type: \"GPU\"\n",
              " memory_limit: 15956161332\n",
              " locality {\n",
              "   bus_id: 1\n",
              "   links {\n",
              "   }\n",
              " }\n",
              " incarnation: 11784328649278361576\n",
              " physical_device_desc: \"device: 0, name: Tesla P100-PCIE-16GB, pci bus id: 0000:00:04.0, compute capability: 6.0\"]"
            ]
          },
          "metadata": {
            "tags": []
          },
          "execution_count": 2
        }
      ]
    },
    {
      "cell_type": "code",
      "metadata": {
        "id": "mZelUYOOGG21",
        "colab_type": "code",
        "colab": {
          "base_uri": "https://localhost:8080/",
          "height": 773
        },
        "outputId": "6884f011-3589-44fe-a529-9a8eefdaeb01"
      },
      "source": [
        "!cat /proc/meminfo"
      ],
      "execution_count": 3,
      "outputs": [
        {
          "output_type": "stream",
          "text": [
            "MemTotal:       13335188 kB\n",
            "MemFree:        10268700 kB\n",
            "MemAvailable:   12251692 kB\n",
            "Buffers:           75652 kB\n",
            "Cached:          2021224 kB\n",
            "SwapCached:            0 kB\n",
            "Active:           820932 kB\n",
            "Inactive:        1840528 kB\n",
            "Active(anon):     491868 kB\n",
            "Inactive(anon):     8520 kB\n",
            "Active(file):     329064 kB\n",
            "Inactive(file):  1832008 kB\n",
            "Unevictable:           0 kB\n",
            "Mlocked:               0 kB\n",
            "SwapTotal:             0 kB\n",
            "SwapFree:              0 kB\n",
            "Dirty:               404 kB\n",
            "Writeback:             0 kB\n",
            "AnonPages:        564572 kB\n",
            "Mapped:           462224 kB\n",
            "Shmem:              9088 kB\n",
            "Slab:             166648 kB\n",
            "SReclaimable:     125844 kB\n",
            "SUnreclaim:        40804 kB\n",
            "KernelStack:        3856 kB\n",
            "PageTables:         6852 kB\n",
            "NFS_Unstable:          0 kB\n",
            "Bounce:                0 kB\n",
            "WritebackTmp:          0 kB\n",
            "CommitLimit:     6667592 kB\n",
            "Committed_AS:    3094240 kB\n",
            "VmallocTotal:   34359738367 kB\n",
            "VmallocUsed:           0 kB\n",
            "VmallocChunk:          0 kB\n",
            "AnonHugePages:         0 kB\n",
            "ShmemHugePages:        0 kB\n",
            "ShmemPmdMapped:        0 kB\n",
            "HugePages_Total:       0\n",
            "HugePages_Free:        0\n",
            "HugePages_Rsvd:        0\n",
            "HugePages_Surp:        0\n",
            "Hugepagesize:       2048 kB\n",
            "DirectMap4k:      182260 kB\n",
            "DirectMap2M:     4012032 kB\n",
            "DirectMap1G:    11534336 kB\n"
          ],
          "name": "stdout"
        }
      ]
    },
    {
      "cell_type": "code",
      "metadata": {
        "id": "GQApm9dfE9V3",
        "colab_type": "code",
        "colab": {
          "base_uri": "https://localhost:8080/",
          "height": 121
        },
        "outputId": "29fbefdc-4852-45c1-a9ca-d7092da120df"
      },
      "source": [
        "from google.colab import drive\n",
        "drive.mount('/content/drive')"
      ],
      "execution_count": 5,
      "outputs": [
        {
          "output_type": "stream",
          "text": [
            "Go to this URL in a browser: https://accounts.google.com/o/oauth2/auth?client_id=947318989803-6bn6qk8qdgf4n4g3pfee6491hc0brc4i.apps.googleusercontent.com&redirect_uri=urn%3aietf%3awg%3aoauth%3a2.0%3aoob&response_type=code&scope=email%20https%3a%2f%2fwww.googleapis.com%2fauth%2fdocs.test%20https%3a%2f%2fwww.googleapis.com%2fauth%2fdrive%20https%3a%2f%2fwww.googleapis.com%2fauth%2fdrive.photos.readonly%20https%3a%2f%2fwww.googleapis.com%2fauth%2fpeopleapi.readonly\n",
            "\n",
            "Enter your authorization code:\n",
            "··········\n",
            "Mounted at /content/drive\n"
          ],
          "name": "stdout"
        }
      ]
    },
    {
      "cell_type": "code",
      "metadata": {
        "id": "9VIvmnp0He98",
        "colab_type": "code",
        "colab": {}
      },
      "source": [
        "!pip install -q keras"
      ],
      "execution_count": 0,
      "outputs": []
    },
    {
      "cell_type": "code",
      "metadata": {
        "id": "KwCZqZHrHnDZ",
        "colab_type": "code",
        "colab": {}
      },
      "source": [
        "import pandas as pd"
      ],
      "execution_count": 0,
      "outputs": []
    },
    {
      "cell_type": "code",
      "metadata": {
        "id": "pSqCIKOAHrhu",
        "colab_type": "code",
        "colab": {
          "base_uri": "https://localhost:8080/",
          "height": 1000
        },
        "outputId": "a505f5aa-a1ac-4a81-86a0-b8c51a1cd2d2"
      },
      "source": [
        "# Artificial Neural Network\n",
        "\n",
        "\n",
        "# Part 1 - Data Preprocessing\n",
        "\n",
        "# Importing the libraries\n",
        "import numpy as np\n",
        "import matplotlib.pyplot as plt\n",
        "import pandas as pd\n",
        "\n",
        "# Importing the dataset\n",
        "dataset = pd.read_csv('/content/drive/My Drive/Colab Notebooks1 /ANN/Churn_Modelling.csv')\n",
        "X = dataset.iloc[:, 3:13]\n",
        "y = dataset.iloc[:, 13]\n",
        "\n",
        "#Create dummy variables\n",
        "geography=pd.get_dummies(X[\"Geography\"],drop_first=True)\n",
        "gender=pd.get_dummies(X['Gender'],drop_first=True)\n",
        "\n",
        "## Concatenate the Data Frames\n",
        "\n",
        "X=pd.concat([X,geography,gender],axis=1)\n",
        "\n",
        "## Drop Unnecessary columns\n",
        "X=X.drop(['Geography','Gender'],axis=1)\n",
        "\n",
        "# Splitting the dataset into the Training set and Test set\n",
        "from sklearn.model_selection import train_test_split\n",
        "X_train, X_test, y_train, y_test = train_test_split(X, y, test_size = 0.2, random_state = 0)\n",
        "\n",
        "# Feature Scaling\n",
        "from sklearn.preprocessing import StandardScaler\n",
        "sc = StandardScaler()\n",
        "X_train = sc.fit_transform(X_train)\n",
        "X_test = sc.transform(X_test)\n",
        "\n",
        "# Part 2 - Now let's make the ANN!\n",
        "\n",
        "# Importing the Keras libraries and packages\n",
        "import keras\n",
        "from keras.models import Sequential\n",
        "from keras.layers import Dense\n",
        "from keras.layers import LeakyReLU,PReLU,ELU\n",
        "from keras.layers import Dropout\n",
        "\n",
        "\n",
        "# Initialising the ANN\n",
        "classifier = Sequential()\n",
        "\n",
        "# Adding the input layer and the first hidden layer\n",
        "classifier.add(Dense(units = 6, kernel_initializer = 'he_uniform',activation='relu',input_dim = 11))\n",
        "\n",
        "# Adding the second hidden layer\n",
        "classifier.add(Dense(units = 6, kernel_initializer = 'he_uniform',activation='relu'))\n",
        "# Adding the output layer\n",
        "classifier.add(Dense(units = 1, kernel_initializer = 'glorot_uniform', activation = 'sigmoid'))\n",
        "\n",
        "# Compiling the ANN\n",
        "classifier.compile(optimizer = 'Adam', loss = 'binary_crossentropy', metrics = ['accuracy'])\n",
        "\n",
        "# Fitting the ANN to the Training set\n",
        "model_history=classifier.fit(X_train, y_train,validation_split=0.33, batch_size = 10, nb_epoch = 100)\n",
        "\n",
        "# list all data in history\n",
        "\n",
        "print(model_history.history.keys())\n",
        "# summarize history for accuracy\n",
        "plt.plot(model_history.history['acc'])\n",
        "plt.plot(model_history.history['val_acc'])\n",
        "plt.title('model accuracy')\n",
        "plt.ylabel('accuracy')\n",
        "plt.xlabel('epoch')\n",
        "plt.legend(['train', 'test'], loc='upper left')\n",
        "plt.show()\n",
        "\n",
        "# summarize history for loss\n",
        "plt.plot(model_history.history['loss'])\n",
        "plt.plot(model_history.history['val_loss'])\n",
        "plt.title('model loss')\n",
        "plt.ylabel('loss')\n",
        "plt.xlabel('epoch')\n",
        "plt.legend(['train', 'test'], loc='upper left')\n",
        "plt.show()\n",
        "\n",
        "# Part 3 - Making the predictions and evaluating the model\n",
        "\n",
        "# Predicting the Test set results\n",
        "y_pred = classifier.predict(X_test)\n",
        "y_pred = (y_pred > 0.5)\n",
        "\n",
        "# Making the Confusion Matrix\n",
        "from sklearn.metrics import confusion_matrix\n",
        "cm = confusion_matrix(y_test, y_pred)\n",
        "\n",
        "# Calculate the Accuracy\n",
        "from sklearn.metrics import accuracy_score\n",
        "score=accuracy_score(y_pred,y_test)\n",
        "print(score)\n",
        "\n",
        "\n"
      ],
      "execution_count": 8,
      "outputs": [
        {
          "output_type": "stream",
          "text": [
            "WARNING:tensorflow:From /usr/local/lib/python3.6/dist-packages/keras/optimizers.py:793: The name tf.train.Optimizer is deprecated. Please use tf.compat.v1.train.Optimizer instead.\n",
            "\n"
          ],
          "name": "stdout"
        },
        {
          "output_type": "stream",
          "text": [
            "Using TensorFlow backend.\n",
            "WARNING:tensorflow:From /usr/local/lib/python3.6/dist-packages/keras/optimizers.py:793: The name tf.train.Optimizer is deprecated. Please use tf.compat.v1.train.Optimizer instead.\n",
            "\n",
            "/usr/local/lib/python3.6/dist-packages/ipykernel_launcher.py:56: UserWarning: The `nb_epoch` argument in `fit` has been renamed `epochs`.\n"
          ],
          "name": "stderr"
        },
        {
          "output_type": "stream",
          "text": [
            "Train on 5359 samples, validate on 2641 samples\n",
            "Epoch 1/100\n",
            "5359/5359 [==============================] - 10s 2ms/step - loss: 0.5167 - acc: 0.7918 - val_loss: 0.4769 - val_acc: 0.7967\n",
            "Epoch 2/100\n",
            "5359/5359 [==============================] - 2s 397us/step - loss: 0.4556 - acc: 0.7975 - val_loss: 0.4472 - val_acc: 0.8008\n",
            "Epoch 3/100\n",
            "5359/5359 [==============================] - 2s 395us/step - loss: 0.4332 - acc: 0.8039 - val_loss: 0.4367 - val_acc: 0.8020\n",
            "Epoch 4/100\n",
            "5359/5359 [==============================] - 2s 376us/step - loss: 0.4239 - acc: 0.8082 - val_loss: 0.4308 - val_acc: 0.7989\n",
            "Epoch 5/100\n",
            "5359/5359 [==============================] - 2s 394us/step - loss: 0.4166 - acc: 0.8136 - val_loss: 0.4281 - val_acc: 0.8023\n",
            "Epoch 6/100\n",
            "5359/5359 [==============================] - 2s 372us/step - loss: 0.4107 - acc: 0.8143 - val_loss: 0.4233 - val_acc: 0.8080\n",
            "Epoch 7/100\n",
            "5359/5359 [==============================] - 2s 368us/step - loss: 0.4048 - acc: 0.8235 - val_loss: 0.4194 - val_acc: 0.8114\n",
            "Epoch 8/100\n",
            "5359/5359 [==============================] - 2s 368us/step - loss: 0.3987 - acc: 0.8298 - val_loss: 0.4135 - val_acc: 0.8156\n",
            "Epoch 9/100\n",
            "5359/5359 [==============================] - 2s 373us/step - loss: 0.3919 - acc: 0.8324 - val_loss: 0.4064 - val_acc: 0.8213\n",
            "Epoch 10/100\n",
            "5359/5359 [==============================] - 2s 366us/step - loss: 0.3838 - acc: 0.8405 - val_loss: 0.3984 - val_acc: 0.8281\n",
            "Epoch 11/100\n",
            "5359/5359 [==============================] - 2s 384us/step - loss: 0.3749 - acc: 0.8449 - val_loss: 0.3904 - val_acc: 0.8323\n",
            "Epoch 12/100\n",
            "5359/5359 [==============================] - 2s 356us/step - loss: 0.3667 - acc: 0.8468 - val_loss: 0.3833 - val_acc: 0.8360\n",
            "Epoch 13/100\n",
            "5359/5359 [==============================] - 2s 374us/step - loss: 0.3602 - acc: 0.8475 - val_loss: 0.3769 - val_acc: 0.8395\n",
            "Epoch 14/100\n",
            "5359/5359 [==============================] - 2s 372us/step - loss: 0.3547 - acc: 0.8543 - val_loss: 0.3748 - val_acc: 0.8417\n",
            "Epoch 15/100\n",
            "5359/5359 [==============================] - 2s 365us/step - loss: 0.3513 - acc: 0.8550 - val_loss: 0.3710 - val_acc: 0.8451\n",
            "Epoch 16/100\n",
            "5359/5359 [==============================] - 2s 376us/step - loss: 0.3485 - acc: 0.8541 - val_loss: 0.3675 - val_acc: 0.8448\n",
            "Epoch 17/100\n",
            "5359/5359 [==============================] - 2s 386us/step - loss: 0.3464 - acc: 0.8572 - val_loss: 0.3657 - val_acc: 0.8470\n",
            "Epoch 18/100\n",
            "5359/5359 [==============================] - 2s 365us/step - loss: 0.3446 - acc: 0.8593 - val_loss: 0.3661 - val_acc: 0.8485\n",
            "Epoch 19/100\n",
            "5359/5359 [==============================] - 2s 374us/step - loss: 0.3430 - acc: 0.8597 - val_loss: 0.3665 - val_acc: 0.8463\n",
            "Epoch 20/100\n",
            "5359/5359 [==============================] - 2s 391us/step - loss: 0.3424 - acc: 0.8615 - val_loss: 0.3635 - val_acc: 0.8455\n",
            "Epoch 21/100\n",
            "5359/5359 [==============================] - 2s 376us/step - loss: 0.3412 - acc: 0.8619 - val_loss: 0.3630 - val_acc: 0.8489\n",
            "Epoch 22/100\n",
            "5359/5359 [==============================] - 2s 362us/step - loss: 0.3406 - acc: 0.8608 - val_loss: 0.3629 - val_acc: 0.8482\n",
            "Epoch 23/100\n",
            "5359/5359 [==============================] - 2s 361us/step - loss: 0.3398 - acc: 0.8604 - val_loss: 0.3635 - val_acc: 0.8482\n",
            "Epoch 24/100\n",
            "5359/5359 [==============================] - 2s 372us/step - loss: 0.3401 - acc: 0.8612 - val_loss: 0.3619 - val_acc: 0.8485\n",
            "Epoch 25/100\n",
            "5359/5359 [==============================] - 2s 373us/step - loss: 0.3395 - acc: 0.8617 - val_loss: 0.3610 - val_acc: 0.8501\n",
            "Epoch 26/100\n",
            "5359/5359 [==============================] - 2s 391us/step - loss: 0.3385 - acc: 0.8612 - val_loss: 0.3622 - val_acc: 0.8512\n",
            "Epoch 27/100\n",
            "5359/5359 [==============================] - 2s 364us/step - loss: 0.3389 - acc: 0.8623 - val_loss: 0.3603 - val_acc: 0.8501\n",
            "Epoch 28/100\n",
            "5359/5359 [==============================] - 2s 371us/step - loss: 0.3384 - acc: 0.8623 - val_loss: 0.3593 - val_acc: 0.8512\n",
            "Epoch 29/100\n",
            "5359/5359 [==============================] - 2s 366us/step - loss: 0.3377 - acc: 0.8617 - val_loss: 0.3602 - val_acc: 0.8520\n",
            "Epoch 30/100\n",
            "5359/5359 [==============================] - 2s 381us/step - loss: 0.3372 - acc: 0.8617 - val_loss: 0.3601 - val_acc: 0.8535\n",
            "Epoch 31/100\n",
            "5359/5359 [==============================] - 2s 361us/step - loss: 0.3371 - acc: 0.8630 - val_loss: 0.3599 - val_acc: 0.8508\n",
            "Epoch 32/100\n",
            "5359/5359 [==============================] - 2s 379us/step - loss: 0.3359 - acc: 0.8619 - val_loss: 0.3636 - val_acc: 0.8485\n",
            "Epoch 33/100\n",
            "5359/5359 [==============================] - 2s 395us/step - loss: 0.3364 - acc: 0.8614 - val_loss: 0.3600 - val_acc: 0.8538\n",
            "Epoch 34/100\n",
            "5359/5359 [==============================] - 2s 370us/step - loss: 0.3363 - acc: 0.8612 - val_loss: 0.3583 - val_acc: 0.8512\n",
            "Epoch 35/100\n",
            "5359/5359 [==============================] - 2s 380us/step - loss: 0.3359 - acc: 0.8643 - val_loss: 0.3584 - val_acc: 0.8523\n",
            "Epoch 36/100\n",
            "5359/5359 [==============================] - 2s 363us/step - loss: 0.3355 - acc: 0.8628 - val_loss: 0.3584 - val_acc: 0.8520\n",
            "Epoch 37/100\n",
            "5359/5359 [==============================] - 2s 364us/step - loss: 0.3360 - acc: 0.8632 - val_loss: 0.3585 - val_acc: 0.8520\n",
            "Epoch 38/100\n",
            "5359/5359 [==============================] - 2s 363us/step - loss: 0.3348 - acc: 0.8630 - val_loss: 0.3620 - val_acc: 0.8523\n",
            "Epoch 39/100\n",
            "5359/5359 [==============================] - 2s 366us/step - loss: 0.3356 - acc: 0.8630 - val_loss: 0.3592 - val_acc: 0.8523\n",
            "Epoch 40/100\n",
            "5359/5359 [==============================] - 2s 359us/step - loss: 0.3349 - acc: 0.8628 - val_loss: 0.3595 - val_acc: 0.8523\n",
            "Epoch 41/100\n",
            "5359/5359 [==============================] - 2s 383us/step - loss: 0.3349 - acc: 0.8628 - val_loss: 0.3587 - val_acc: 0.8520\n",
            "Epoch 42/100\n",
            "5359/5359 [==============================] - 2s 361us/step - loss: 0.3347 - acc: 0.8634 - val_loss: 0.3589 - val_acc: 0.8531\n",
            "Epoch 43/100\n",
            "5359/5359 [==============================] - 2s 359us/step - loss: 0.3344 - acc: 0.8645 - val_loss: 0.3584 - val_acc: 0.8535\n",
            "Epoch 44/100\n",
            "5359/5359 [==============================] - 2s 367us/step - loss: 0.3337 - acc: 0.8628 - val_loss: 0.3601 - val_acc: 0.8516\n",
            "Epoch 45/100\n",
            "5359/5359 [==============================] - 2s 364us/step - loss: 0.3340 - acc: 0.8645 - val_loss: 0.3588 - val_acc: 0.8516\n",
            "Epoch 46/100\n",
            "5359/5359 [==============================] - 2s 364us/step - loss: 0.3333 - acc: 0.8658 - val_loss: 0.3584 - val_acc: 0.8535\n",
            "Epoch 47/100\n",
            "5359/5359 [==============================] - 2s 374us/step - loss: 0.3337 - acc: 0.8647 - val_loss: 0.3586 - val_acc: 0.8520\n",
            "Epoch 48/100\n",
            "5359/5359 [==============================] - 2s 370us/step - loss: 0.3331 - acc: 0.8653 - val_loss: 0.3589 - val_acc: 0.8512\n",
            "Epoch 49/100\n",
            "5359/5359 [==============================] - 2s 370us/step - loss: 0.3333 - acc: 0.8623 - val_loss: 0.3583 - val_acc: 0.8531\n",
            "Epoch 50/100\n",
            "5359/5359 [==============================] - 2s 372us/step - loss: 0.3332 - acc: 0.8630 - val_loss: 0.3577 - val_acc: 0.8535\n",
            "Epoch 51/100\n",
            "5359/5359 [==============================] - 2s 360us/step - loss: 0.3332 - acc: 0.8643 - val_loss: 0.3587 - val_acc: 0.8512\n",
            "Epoch 52/100\n",
            "5359/5359 [==============================] - 2s 378us/step - loss: 0.3330 - acc: 0.8655 - val_loss: 0.3581 - val_acc: 0.8520\n",
            "Epoch 53/100\n",
            "5359/5359 [==============================] - 2s 370us/step - loss: 0.3325 - acc: 0.8649 - val_loss: 0.3582 - val_acc: 0.8527\n",
            "Epoch 54/100\n",
            "5359/5359 [==============================] - 2s 370us/step - loss: 0.3327 - acc: 0.8645 - val_loss: 0.3582 - val_acc: 0.8535\n",
            "Epoch 55/100\n",
            "5359/5359 [==============================] - 2s 359us/step - loss: 0.3318 - acc: 0.8656 - val_loss: 0.3586 - val_acc: 0.8542\n",
            "Epoch 56/100\n",
            "5359/5359 [==============================] - 2s 366us/step - loss: 0.3323 - acc: 0.8647 - val_loss: 0.3573 - val_acc: 0.8523\n",
            "Epoch 57/100\n",
            "5359/5359 [==============================] - 2s 369us/step - loss: 0.3320 - acc: 0.8649 - val_loss: 0.3582 - val_acc: 0.8538\n",
            "Epoch 58/100\n",
            "5359/5359 [==============================] - 2s 378us/step - loss: 0.3321 - acc: 0.8619 - val_loss: 0.3578 - val_acc: 0.8542\n",
            "Epoch 59/100\n",
            "5359/5359 [==============================] - 2s 361us/step - loss: 0.3318 - acc: 0.8625 - val_loss: 0.3574 - val_acc: 0.8550\n",
            "Epoch 60/100\n",
            "5359/5359 [==============================] - 2s 359us/step - loss: 0.3309 - acc: 0.8645 - val_loss: 0.3564 - val_acc: 0.8557\n",
            "Epoch 61/100\n",
            "5359/5359 [==============================] - 2s 365us/step - loss: 0.3321 - acc: 0.8632 - val_loss: 0.3563 - val_acc: 0.8546\n",
            "Epoch 62/100\n",
            "5359/5359 [==============================] - 2s 368us/step - loss: 0.3316 - acc: 0.8636 - val_loss: 0.3565 - val_acc: 0.8561\n",
            "Epoch 63/100\n",
            "5359/5359 [==============================] - 2s 388us/step - loss: 0.3311 - acc: 0.8647 - val_loss: 0.3570 - val_acc: 0.8542\n",
            "Epoch 64/100\n",
            "5359/5359 [==============================] - 2s 374us/step - loss: 0.3316 - acc: 0.8636 - val_loss: 0.3580 - val_acc: 0.8527\n",
            "Epoch 65/100\n",
            "5359/5359 [==============================] - 2s 375us/step - loss: 0.3312 - acc: 0.8636 - val_loss: 0.3591 - val_acc: 0.8527\n",
            "Epoch 66/100\n",
            "5359/5359 [==============================] - 2s 361us/step - loss: 0.3315 - acc: 0.8645 - val_loss: 0.3576 - val_acc: 0.8546\n",
            "Epoch 67/100\n",
            "5359/5359 [==============================] - 2s 367us/step - loss: 0.3313 - acc: 0.8668 - val_loss: 0.3564 - val_acc: 0.8554\n",
            "Epoch 68/100\n",
            "5359/5359 [==============================] - 2s 371us/step - loss: 0.3309 - acc: 0.8627 - val_loss: 0.3567 - val_acc: 0.8542\n",
            "Epoch 69/100\n",
            "5359/5359 [==============================] - 2s 383us/step - loss: 0.3307 - acc: 0.8621 - val_loss: 0.3567 - val_acc: 0.8565\n",
            "Epoch 70/100\n",
            "5359/5359 [==============================] - 2s 364us/step - loss: 0.3312 - acc: 0.8643 - val_loss: 0.3564 - val_acc: 0.8569\n",
            "Epoch 71/100\n",
            "5359/5359 [==============================] - 2s 383us/step - loss: 0.3305 - acc: 0.8656 - val_loss: 0.3555 - val_acc: 0.8565\n",
            "Epoch 72/100\n",
            "5359/5359 [==============================] - 2s 364us/step - loss: 0.3303 - acc: 0.8643 - val_loss: 0.3581 - val_acc: 0.8561\n",
            "Epoch 73/100\n",
            "5359/5359 [==============================] - 2s 361us/step - loss: 0.3311 - acc: 0.8627 - val_loss: 0.3566 - val_acc: 0.8542\n",
            "Epoch 74/100\n",
            "5359/5359 [==============================] - 2s 374us/step - loss: 0.3304 - acc: 0.8623 - val_loss: 0.3580 - val_acc: 0.8565\n",
            "Epoch 75/100\n",
            "5359/5359 [==============================] - 2s 358us/step - loss: 0.3310 - acc: 0.8627 - val_loss: 0.3573 - val_acc: 0.8561\n",
            "Epoch 76/100\n",
            "5359/5359 [==============================] - 2s 371us/step - loss: 0.3303 - acc: 0.8636 - val_loss: 0.3566 - val_acc: 0.8550\n",
            "Epoch 77/100\n",
            "5359/5359 [==============================] - 2s 378us/step - loss: 0.3305 - acc: 0.8634 - val_loss: 0.3581 - val_acc: 0.8573\n",
            "Epoch 78/100\n",
            "5359/5359 [==============================] - 2s 367us/step - loss: 0.3305 - acc: 0.8640 - val_loss: 0.3570 - val_acc: 0.8565\n",
            "Epoch 79/100\n",
            "5359/5359 [==============================] - 2s 364us/step - loss: 0.3302 - acc: 0.8651 - val_loss: 0.3565 - val_acc: 0.8554\n",
            "Epoch 80/100\n",
            "5359/5359 [==============================] - 2s 376us/step - loss: 0.3306 - acc: 0.8638 - val_loss: 0.3568 - val_acc: 0.8546\n",
            "Epoch 81/100\n",
            "5359/5359 [==============================] - 2s 364us/step - loss: 0.3304 - acc: 0.8632 - val_loss: 0.3560 - val_acc: 0.8557\n",
            "Epoch 82/100\n",
            "5359/5359 [==============================] - 2s 362us/step - loss: 0.3303 - acc: 0.8630 - val_loss: 0.3565 - val_acc: 0.8561\n",
            "Epoch 83/100\n",
            "5359/5359 [==============================] - 2s 374us/step - loss: 0.3303 - acc: 0.8638 - val_loss: 0.3580 - val_acc: 0.8584\n",
            "Epoch 84/100\n",
            "5359/5359 [==============================] - 2s 378us/step - loss: 0.3306 - acc: 0.8628 - val_loss: 0.3566 - val_acc: 0.8561\n",
            "Epoch 85/100\n",
            "5359/5359 [==============================] - 2s 361us/step - loss: 0.3305 - acc: 0.8640 - val_loss: 0.3572 - val_acc: 0.8584\n",
            "Epoch 86/100\n",
            "5359/5359 [==============================] - 2s 369us/step - loss: 0.3303 - acc: 0.8655 - val_loss: 0.3578 - val_acc: 0.8557\n",
            "Epoch 87/100\n",
            "5359/5359 [==============================] - 2s 367us/step - loss: 0.3301 - acc: 0.8615 - val_loss: 0.3569 - val_acc: 0.8576\n",
            "Epoch 88/100\n",
            "5359/5359 [==============================] - 2s 374us/step - loss: 0.3299 - acc: 0.8636 - val_loss: 0.3580 - val_acc: 0.8561\n",
            "Epoch 89/100\n",
            "5359/5359 [==============================] - 2s 362us/step - loss: 0.3302 - acc: 0.8614 - val_loss: 0.3586 - val_acc: 0.8561\n",
            "Epoch 90/100\n",
            "5359/5359 [==============================] - 2s 358us/step - loss: 0.3301 - acc: 0.8621 - val_loss: 0.3564 - val_acc: 0.8573\n",
            "Epoch 91/100\n",
            "5359/5359 [==============================] - 2s 369us/step - loss: 0.3302 - acc: 0.8628 - val_loss: 0.3584 - val_acc: 0.8576\n",
            "Epoch 92/100\n",
            "5359/5359 [==============================] - 2s 369us/step - loss: 0.3297 - acc: 0.8643 - val_loss: 0.3562 - val_acc: 0.8576\n",
            "Epoch 93/100\n",
            "5359/5359 [==============================] - 2s 376us/step - loss: 0.3297 - acc: 0.8643 - val_loss: 0.3571 - val_acc: 0.8576\n",
            "Epoch 94/100\n",
            "5359/5359 [==============================] - 2s 357us/step - loss: 0.3298 - acc: 0.8623 - val_loss: 0.3582 - val_acc: 0.8542\n",
            "Epoch 95/100\n",
            "5359/5359 [==============================] - 2s 366us/step - loss: 0.3299 - acc: 0.8645 - val_loss: 0.3568 - val_acc: 0.8565\n",
            "Epoch 96/100\n",
            "5359/5359 [==============================] - 2s 368us/step - loss: 0.3299 - acc: 0.8614 - val_loss: 0.3560 - val_acc: 0.8580\n",
            "Epoch 97/100\n",
            "5359/5359 [==============================] - 2s 360us/step - loss: 0.3300 - acc: 0.8634 - val_loss: 0.3564 - val_acc: 0.8565\n",
            "Epoch 98/100\n",
            "5359/5359 [==============================] - 2s 371us/step - loss: 0.3296 - acc: 0.8632 - val_loss: 0.3564 - val_acc: 0.8573\n",
            "Epoch 99/100\n",
            "5359/5359 [==============================] - 2s 371us/step - loss: 0.3296 - acc: 0.8638 - val_loss: 0.3563 - val_acc: 0.8573\n",
            "Epoch 100/100\n",
            "5359/5359 [==============================] - 2s 369us/step - loss: 0.3299 - acc: 0.8640 - val_loss: 0.3573 - val_acc: 0.8561\n",
            "dict_keys(['val_loss', 'val_acc', 'loss', 'acc'])\n"
          ],
          "name": "stdout"
        },
        {
          "output_type": "display_data",
          "data": {
            "image/png": "[encoded data removed]",
            "text/plain": [
              "<Figure size 432x288 with 1 Axes>"
            ]
          },
          "metadata": {
            "tags": []
          }
        },
        {
          "output_type": "display_data",
          "data": {
            "image/png": "[encoded data removed]",
            "text/plain": [
              "<Figure size 432x288 with 1 Axes>"
            ]
          },
          "metadata": {
            "tags": []
          }
        },
        {
          "output_type": "stream",
          "text": [
            "0.8665\n"
          ],
          "name": "stdout"
        }
      ]
    }
  ]
}